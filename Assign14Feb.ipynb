{
 "cells": [
  {
   "cell_type": "markdown",
   "id": "aea131f5-f74e-4b3c-adf1-11018b375081",
   "metadata": {},
   "source": [
    "## Q1. What is multithreading in python? Why is it used? Name the module used to handle threads in python."
   ]
  },
  {
   "cell_type": "markdown",
   "id": "94e21edd-aff9-431f-ba49-4223fb7426da",
   "metadata": {},
   "source": [
    "#### Ans.\n",
    "#### Multithreading is a threading technique in Python programming to run multiple threads concurrently by rapidly switching between threads with CPU help.\n",
    "\n",
    "#### Multithreading is used to perform multiple tasks simultaneously, which increases performance, speed and improves the rendering of the application.\n",
    "\n",
    "#### The threading module is used to handle threads in python."
   ]
  },
  {
   "cell_type": "code",
   "execution_count": null,
   "id": "ced727f1-12eb-4950-b395-c235cbd1687b",
   "metadata": {},
   "outputs": [],
   "source": []
  },
  {
   "cell_type": "markdown",
   "id": "573dfecc-dffe-422a-ac49-77a1b076d101",
   "metadata": {},
   "source": [
    "## Q2. Why threading module used? Write the use of the following functions:\n",
    "## 1. activeCount()\n",
    "## 2. currentThread()\n",
    "## 3. enumerate()"
   ]
  },
  {
   "cell_type": "markdown",
   "id": "c480d44d-e20b-4fe0-b2fa-d4f457ffa649",
   "metadata": {},
   "source": [
    "#### Ans\n",
    "#### Threading module is used to handle threads in python."
   ]
  },
  {
   "cell_type": "markdown",
   "id": "bf798faa-c9c3-4875-b3e6-95c59c2f59c8",
   "metadata": {},
   "source": [
    "#### 1. activeCount()--> Returns the number of thread objects that are active"
   ]
  },
  {
   "cell_type": "markdown",
   "id": "5e3b6b45-4e05-4fd0-aa8e-f7eb9c6ba130",
   "metadata": {},
   "source": [
    "#### 2. currentThread()--> It is used to return the current Thread object, which corresponds to the caller's thread of control."
   ]
  },
  {
   "cell_type": "markdown",
   "id": "852c5d9f-d9d1-4639-aa6f-f1872e55f057",
   "metadata": {},
   "source": [
    "#### 3. enumerate()--> Returns a list of all thread objects that are currently active."
   ]
  },
  {
   "cell_type": "code",
   "execution_count": null,
   "id": "75f7767a-c704-4c5c-95b0-70e874fe1dae",
   "metadata": {},
   "outputs": [],
   "source": []
  },
  {
   "cell_type": "markdown",
   "id": "65764a63-0d1c-4264-bd64-0be781fe6b4b",
   "metadata": {},
   "source": [
    "## Q3. Explain the following functions:\n",
    "## 1. run()\n",
    "## 2. start()\n",
    "## 3. join()\n",
    "## 4. isAlive()"
   ]
  },
  {
   "cell_type": "markdown",
   "id": "01b642d1-6610-41b4-9a76-22143b3b26d9",
   "metadata": {},
   "source": [
    "# Ans.\n",
    "#### 1. run()--> It executes any target function belonging to a given thread object that is now active.\n",
    "\n",
    "#### 2. start()--> It is an inbuilt method of the Thread class of the threading module, it is used to start a thread's activity.\n",
    "\n",
    "#### 3. join()--> It allows one thread to wait for a second thread to complete.\n",
    "\n",
    "#### 4. isAlive()--> It returns True if the thread is still running and False , otherwise."
   ]
  },
  {
   "cell_type": "code",
   "execution_count": null,
   "id": "f1a9593d-6a4f-4085-9695-47353b9347fe",
   "metadata": {},
   "outputs": [],
   "source": []
  },
  {
   "cell_type": "markdown",
   "id": "bd51db29-587a-426b-b395-580cbe06ad14",
   "metadata": {},
   "source": [
    "## Q4. Write a python program to create two threads. Thread one must print the list of squares and thread two must print the list of cubes."
   ]
  },
  {
   "cell_type": "markdown",
   "id": "5d740a5f-9e2f-4bcd-b9c0-d9113bb25ab5",
   "metadata": {},
   "source": [
    "#### Ans."
   ]
  },
  {
   "cell_type": "code",
   "execution_count": 41,
   "id": "9d75d30f-c535-45e5-bede-1f4a40668fab",
   "metadata": {},
   "outputs": [],
   "source": [
    "import threading\n",
    "\n",
    "lock = threading.Lock()\n",
    "\n",
    "l1 = []\n",
    "def square(num):\n",
    "    global l1\n",
    "    with lock:\n",
    "        l1.append(num**2)\n",
    "    print(l1)\n",
    "        \n",
    "l2 = []\n",
    "def cube(num):\n",
    "    global l2\n",
    "    with lock:\n",
    "        l2.append(num**3)\n",
    "        print(l2)"
   ]
  },
  {
   "cell_type": "code",
   "execution_count": 42,
   "id": "2d86c9da-6176-4ee3-abe2-bceae96fab08",
   "metadata": {},
   "outputs": [
    {
     "name": "stdout",
     "output_type": "stream",
     "text": [
      "[1]\n",
      "[1, 4]\n",
      "[1, 4, 9]\n",
      "[1, 4, 9, 16]\n",
      "[1, 4, 9, 16, 25]\n",
      "[1, 4, 9, 16, 25, 36]\n",
      "[1, 4, 9, 16, 25, 36, 49]\n",
      "[1, 4, 9, 16, 25, 36, 49, 64]\n",
      "[1, 4, 9, 16, 25, 36, 49, 64, 81]\n",
      "[1, 4, 9, 16, 25, 36, 49, 64, 81, 100]\n",
      "[1]\n",
      "[1, 8]\n",
      "[1, 8, 27]\n",
      "[1, 8, 27, 64]\n",
      "[1, 8, 27, 64, 125]\n",
      "[1, 8, 27, 64, 125, 216]\n",
      "[1, 8, 27, 64, 125, 216, 343]\n",
      "[1, 8, 27, 64, 125, 216, 343, 512]\n",
      "[1, 8, 27, 64, 125, 216, 343, 512, 729]\n",
      "[1, 8, 27, 64, 125, 216, 343, 512, 729, 1000]\n"
     ]
    }
   ],
   "source": [
    "thread1 = [threading.Thread(target = square, args = (i,)) for i in range(1,11)]\n",
    "\n",
    "for j in thread1:\n",
    "    j.start()\n",
    "\n",
    "thread2 = [threading.Thread(target = cube, args = (i,)) for i in range(1,11)]\n",
    "\n",
    "for j in thread2:\n",
    "    j.start()"
   ]
  },
  {
   "cell_type": "code",
   "execution_count": null,
   "id": "bc2dbdfe-bfc0-435c-a0d1-a1fdb0565885",
   "metadata": {},
   "outputs": [],
   "source": []
  },
  {
   "cell_type": "markdown",
   "id": "6f7a91e2-93d9-4411-914f-1ff9778cd8fe",
   "metadata": {},
   "source": [
    "## Q5. State advantages and disadvantages of multithreading."
   ]
  },
  {
   "cell_type": "markdown",
   "id": "d6b7e5b2-4202-44c2-8646-04aee8023fb7",
   "metadata": {},
   "source": [
    "#### Ans.\n",
    "\n",
    "#### Advantages:------\n",
    "\n",
    "#### 1. Responsiveness\n",
    "#### 2. Resource Sharing\n",
    "#### 3. Economy\n",
    "#### 4. Scalability\n",
    "#### 5. Better Communication\n",
    "#### 6. Utilization of multiprocessor architecture\n",
    "#### 7. Minimized system resource usage\n",
    "\n",
    "\n",
    "#### Disadvantages:------\n",
    "\n",
    "#### 1. It needs more careful synchronization.\n",
    "#### 2. It can consume a large space of stocks of blocked threads.\n",
    "#### 3. It needs support for thread or process.\n",
    "#### 4. If a parent process has several threads for proper process functioning, the child processes should also be multithreaded because they may be required.\n",
    "#### 5. It imposes context switching overhead."
   ]
  },
  {
   "cell_type": "code",
   "execution_count": null,
   "id": "e33463dd-64b6-4e6c-997b-60d80861d556",
   "metadata": {},
   "outputs": [],
   "source": []
  },
  {
   "cell_type": "markdown",
   "id": "790fc818-f5ae-42b1-8c8c-47becbc9eb63",
   "metadata": {},
   "source": [
    "## Q6. Explain deadlocks and race conditions."
   ]
  },
  {
   "cell_type": "markdown",
   "id": "f5fa0159-b4cd-461e-a0cc-bb17d7d51598",
   "metadata": {},
   "source": [
    "#### Ans.\n",
    "#### Deadlock---> It exists when two threads seek one lock simultaneously.\n",
    "#### A deadlock is a concurrency failure mode where a thread or threads wait for a condition that never occurs\n",
    "\n",
    "#### A race condition occurs when two threads use the same variable at a given time.\n",
    "#### A race condition means that a program's result might depend on the order of execution of the individual steps."
   ]
  }
 ],
 "metadata": {
  "kernelspec": {
   "display_name": "Python 3 (ipykernel)",
   "language": "python",
   "name": "python3"
  },
  "language_info": {
   "codemirror_mode": {
    "name": "ipython",
    "version": 3
   },
   "file_extension": ".py",
   "mimetype": "text/x-python",
   "name": "python",
   "nbconvert_exporter": "python",
   "pygments_lexer": "ipython3",
   "version": "3.10.8"
  }
 },
 "nbformat": 4,
 "nbformat_minor": 5
}
